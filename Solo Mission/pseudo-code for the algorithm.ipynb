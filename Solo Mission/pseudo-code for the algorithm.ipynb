{
 "cells": [
  {
   "cell_type": "code",
   "execution_count": null,
   "id": "e79dc3c5",
   "metadata": {},
   "outputs": [],
   "source": [
    "import os\n",
    "import argparse\n",
    "import shutil\n",
    "\n",
    "\n",
    "parser = argparse.ArgumentParser()\n",
    "parser.add_argument('--path', type=str, default=None)\n",
    "parser.add_argument('--force', action='store_true')\n",
    "args = parser.parse_args()\n",
    "\n",
    "\n",
    "def main():\n",
    "    assert os.path.isdir(args.path), \"Path is not correct\"\n",
    "    path = args.path\n",
    "    monkaa = path + \"/monkaa/frames_cleanpass\"\n",
    "    monkaa_disparity = path + \"/monkaa/disparity\"\n",
    "    driving = path + \"/driving/frames_cleanpass\"\n",
    "    driving_disparity = path + \"/driving/disparity\"\n",
    "    flyingthings3d = path+\"/flyingthings3d/frames_cleanpass\"\n",
    "    flyingthings3d_disparity = path+\"/flyingthings3d/disparity\"\n",
    "\n",
    "    if args.force and os.path.isdir('sceneflow'):\n",
    "        shutil.rmtree('sceneflow')\n",
    "    if os.path.isdir('sceneflow'):\n",
    "        print('Soft links are existing. Stop running')\n",
    "        return\n",
    "    os.makedirs('sceneflow')\n",
    "    os.system('ln -s {} sceneflow/monkaa_cleanpass'.format(monkaa))\n",
    "    os.system('ln -s {} sceneflow/monkaa_disparity'.format(monkaa_disparity))\n",
    "    os.system('ln -s {} sceneflow/flyingthings3d_cleanpass'.format(flyingthings3d))\n",
    "    os.system(\n",
    "        'ln -s {} sceneflow/flyingthings3d_disparity'.format(flyingthings3d_disparity))\n",
    "    os.system('ln -s {} sceneflow/driving_cleanpass'.format(driving))\n",
    "    os.system('ln -s {} sceneflow/driving_disparity'.format(driving_disparity))\n",
    "\n",
    "\n",
    "if __name__ == '__main__':\n",
    "    main()"
   ]
  },
  {
   "cell_type": "code",
   "execution_count": null,
   "id": "93bd9c5c",
   "metadata": {},
   "outputs": [],
   "source": []
  }
 ],
 "metadata": {
  "kernelspec": {
   "display_name": "Python 3",
   "language": "python",
   "name": "python3"
  },
  "language_info": {
   "codemirror_mode": {
    "name": "ipython",
    "version": 3
   },
   "file_extension": ".py",
   "mimetype": "text/x-python",
   "name": "python",
   "nbconvert_exporter": "python",
   "pygments_lexer": "ipython3",
   "version": "3.8.8"
  }
 },
 "nbformat": 4,
 "nbformat_minor": 5
}
