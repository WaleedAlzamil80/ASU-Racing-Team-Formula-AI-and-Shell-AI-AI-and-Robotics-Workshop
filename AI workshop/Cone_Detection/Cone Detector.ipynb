{
 "cells": [
  {
   "cell_type": "code",
   "execution_count": 1,
   "metadata": {},
   "outputs": [],
   "source": [
    "import numpy as np\n",
    "def detect_cones(h, array, epsilon_bias = 0.1, epsilon_rmse = 0.5, epsilon_radius = 0.1, r=0.05):\n",
    "    \"\"\"\n",
    "    h : hight of the cone\n",
    "\n",
    "    array : should contain the corrdinates x,y,z at the first 3 columns in the specific order.\n",
    "            shape : (m, 3) or (m, 4) where m is the number of points(observations)  \n",
    "            NOTE : I am not interested in the last column\n",
    "    \n",
    "    The threshold values:\n",
    "    epsilon_radius  : the minimum difference in the bias term from the calculations and from the Normal equation\n",
    "    epsilon_rmse     : the minimum root mean squared error               \n",
    "    epsilon_radius  : the minimum difference in first and third coefficient \n",
    "                        NOTE: maybe you will need to tune this value\n",
    "\n",
    "    r : radius of the base of the cone (NOT required)\n",
    "    \"\"\"\n",
    "    # prepare the required data\n",
    "    x_2 = np.square(array[:,0])                                                                                         #(m,1)\n",
    "    y_2 = np.square(array[:,1])                                                                                         #(m,1)\n",
    "    z_cap = np.square(array[:,2] - h)                                                                                   #(m,1)\n",
    "    input_data = np.vstack([x_2,array[:,0],y_2,array[:,1]]).T                                                           #(m,4)\n",
    "    input_array = np.hstack((input_data,np.ones((input_data.shape[0],1))))                                              #(m,5)\n",
    "\n",
    "    # Do the calculations\n",
    "    try:\n",
    "        weights = np.dot((np.dot(np.linalg.inv(np.dot(input_array.T,input_array)),input_array.T)),z_cap)                #(5,1)\n",
    "    except:\n",
    "        weights = np.dot((np.dot(input_array.T, np.linalg.inv(np.dot(input_array,input_array.T)))),z_cap)               #(5,1)\n",
    "\n",
    "    z_pred_cap = np.dot(input_array,weights)                                                                            #(m,1)\n",
    "    z_pred = np.sqrt(z_pred_cap) + h                                                                                    #(m,1)\n",
    "\n",
    "    # Measure all kinds of errors\n",
    "    rmse = np.sqrt((1/array.shape[0])*np.sum(np.square(z_pred - array[:,2])))                                           #(1,1)\n",
    "    error_in_the_radius = np.abs((weights[0])-(weights[2]))                                                             #(1,1)\n",
    "    bias_term_from_calculations = (np.square(weights[1])/(4*weights[0])) + (np.square(weights[3])/(4*weights[2]))       #(1,1)\n",
    "    bias_error = np.abs((bias_term_from_calculations) - (weights[4]))                                                   #(1,1)\n",
    "\n",
    "    #set up the conditions and Output the results\n",
    "    if(bias_error < epsilon_bias) and (rmse < epsilon_rmse) and (error_in_the_radius < epsilon_radius):\n",
    "        a_x = -weights[1]/(2*weights[0])\n",
    "        a_y = -weights[3]/(2*weights[2])\n",
    "        return True, (a_x, a_y)\n",
    "    else:\n",
    "        return False"
   ]
  },
  {
   "cell_type": "code",
   "execution_count": null,
   "metadata": {},
   "outputs": [],
   "source": []
  }
 ],
 "metadata": {
  "kernelspec": {
   "display_name": "Python 3.9.6 64-bit",
   "language": "python",
   "name": "python3"
  },
  "language_info": {
   "codemirror_mode": {
    "name": "ipython",
    "version": 3
   },
   "file_extension": ".py",
   "mimetype": "text/x-python",
   "name": "python",
   "nbconvert_exporter": "python",
   "pygments_lexer": "ipython3",
   "version": "3.9.6"
  },
  "orig_nbformat": 4,
  "vscode": {
   "interpreter": {
    "hash": "11938c6bc6919ae2720b4d5011047913343b08a43b18698fd82dedb0d4417594"
   }
  }
 },
 "nbformat": 4,
 "nbformat_minor": 2
}
